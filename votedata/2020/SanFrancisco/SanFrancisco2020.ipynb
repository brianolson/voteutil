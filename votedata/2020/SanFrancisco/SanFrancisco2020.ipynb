{
 "cells": [
  {
   "cell_type": "code",
   "execution_count": 1,
   "metadata": {},
   "outputs": [],
   "source": [
    "import glob\n",
    "import io\n",
    "import json\n",
    "import re\n",
    "import time\n",
    "import os\n",
    "import urllib.parse\n",
    "import logging\n",
    "import zipfile\n",
    "\n",
    "import IPython.core.display\n",
    "\n",
    "from voteutil.irv import IRV\n",
    "from voteutil.vrr import VRR\n",
    "from voteutil.vrr2 import VRR2\n",
    "from voteutil.pickone import PickOne\n",
    "from voteutil.count import processFile\n",
    "\n",
    "logger = logging.getLogger(__name__)\n",
    "\n",
    "# https://sfelections.sfgov.org/november-3-2020-election-results-detailed-reports\n",
    "# Final Report\n",
    "# https://www.sfelections.org/results/20201103/data/20201201/CVR_Export_20201201091840.zip\n",
    "zf = zipfile.ZipFile('CVR_Export_20201201091840.zip')\n",
    "# Preliminary Report 16\n",
    "# https://www.sfelections.org/results/20201103/data/20201124/CVR_Export_20201124150514.zip-\n",
    "# zf = zipfile.ZipFile('CVR_Export_20201124150514.zip')\n",
    "# Preliminary Report 15\n",
    "# https://www.sfelections.org/results/20201103/data/20201119/CVR_Export_20201119152920.zip\n",
    "#zf = zipfile.ZipFile('CVR_Export_20201119152920.zip')\n",
    "# Preliminary Report 14\n",
    "# https://www.sfelections.org/results/20201103/data/20201117/CVR_Export_20201117160040.zip\n",
    "#zf = zipfile.ZipFile('CVR_Export_20201117160040.zip')\n",
    "# Preliminary Report 13\n",
    "# https://www.sfelections.org/results/20201103/data/20201113/CVR_Export_20201113155705.zip\n",
    "#zf = zipfile.ZipFile('CVR_Export_20201113155705.zip')\n",
    "# Preliminary Report 12\n",
    "# https://www.sfelections.org/results/20201103/data/20201112/CVR_Export_20201112161239.zip\n",
    "#zf = zipfile.ZipFile('CVR_Export_20201112161239.zip')"
   ]
  },
  {
   "cell_type": "code",
   "execution_count": 2,
   "metadata": {},
   "outputs": [],
   "source": [
    "def phtml(x):\n",
    "    IPython.core.display.display(IPython.core.display.HTML(x))"
   ]
  },
  {
   "cell_type": "code",
   "execution_count": 3,
   "metadata": {},
   "outputs": [],
   "source": [
    "files = zf.infolist()"
   ]
  },
  {
   "cell_type": "code",
   "execution_count": 4,
   "metadata": {},
   "outputs": [],
   "source": [
    "cvrpat = re.compile(r'CvrExport_(\\d+).json')\n",
    "cvrs = {}\n",
    "otherFiles = []\n",
    "for zi in files:\n",
    "    #dirpath, fname = os.path.split(path)\n",
    "    m = cvrpat.match(zi.filename)\n",
    "    if m:\n",
    "        cvrs[int(m.group(1))] = zi\n",
    "    else:\n",
    "        otherFiles.append(zi)"
   ]
  },
  {
   "cell_type": "code",
   "execution_count": 5,
   "metadata": {},
   "outputs": [
    {
     "name": "stdout",
     "output_type": "stream",
     "text": [
      "BallotTypeContestManifest.json\n",
      "BallotTypeManifest.json\n",
      "CandidateManifest.json\n",
      "Configuration.json\n",
      "ContestManifest.json\n",
      "CountingGroupManifest.json\n",
      "DistrictManifest.json\n",
      "DistrictPrecinctPortionManifest.json\n",
      "DistrictTypeManifest.json\n",
      "ElectionEventManifest.json\n",
      "OutstackConditionManifest.json\n",
      "PartyManifest.json\n",
      "PrecinctManifest.json\n",
      "PrecinctPortionManifest.json\n",
      "TabulatorManifest.json\n"
     ]
    }
   ],
   "source": [
    "print('\\n'.join(sorted([x.filename for x in otherFiles])))"
   ]
  },
  {
   "cell_type": "code",
   "execution_count": 6,
   "metadata": {},
   "outputs": [],
   "source": [
    "candidates = {}\n",
    "with zf.open('CandidateManifest.json') as fin:\n",
    "    ob = json.load(fin)\n",
    "for rec in ob['List']:\n",
    "    cont = rec['ContestId']\n",
    "    cand = rec['Id']\n",
    "    name = rec['Description']\n",
    "    if cand in candidates:\n",
    "        print('dup candidate {}'.format(cand))\n",
    "    candidates[cand] = name"
   ]
  },
  {
   "cell_type": "code",
   "execution_count": 7,
   "metadata": {},
   "outputs": [],
   "source": [
    "rcvContests = {}\n",
    "with zf.open('ContestManifest.json') as fin:\n",
    "    ob = json.load(fin)\n",
    "for rec in ob['List']:\n",
    "    if rec['NumOfRanks'] > 1:\n",
    "        rcvContests[rec['Id']] = rec"
   ]
  },
  {
   "cell_type": "code",
   "execution_count": 8,
   "metadata": {},
   "outputs": [
    {
     "name": "stdout",
     "output_type": "stream",
     "text": [
      "(ContestId=12) BOARD OF SUPERVISORS DISTRICT 1\n",
      "(ContestId=13) BOARD OF SUPERVISORS DISTRICT 3\n",
      "(ContestId=14) BOARD OF SUPERVISORS DISTRICT 5\n",
      "(ContestId=15) BOARD OF SUPERVISORS DISTRICT 7\n",
      "(ContestId=16) BOARD OF SUPERVISORS DISTRICT 9\n",
      "(ContestId=17) BOARD OF SUPERVISORS DISTRICT 11\n"
     ]
    }
   ],
   "source": [
    "print('\\n'.join(['(ContestId={}) {}'.format(rc['Id'], rc['Description']) for rc in rcvContests.values()]))"
   ]
  },
  {
   "cell_type": "code",
   "execution_count": 9,
   "metadata": {},
   "outputs": [],
   "source": [
    "with zf.open('CvrExport_1.json') as fin:\n",
    "    cvr = json.load(fin)"
   ]
  },
  {
   "cell_type": "code",
   "execution_count": 10,
   "metadata": {},
   "outputs": [
    {
     "name": "stdout",
     "output_type": "stream",
     "text": [
      "{'Version': '5.10.50.85', 'ElectionId': 'San Francisco Consolidated General Election'}\n"
     ]
    }
   ],
   "source": [
    "print(dict(Version=cvr['Version'], ElectionId=cvr['ElectionId']))"
   ]
  },
  {
   "cell_type": "code",
   "execution_count": 11,
   "metadata": {},
   "outputs": [
    {
     "name": "stdout",
     "output_type": "stream",
     "text": [
      "Done: 233872 votes (99.5 seconds)\n"
     ]
    }
   ],
   "source": [
    "# main extract\n",
    "start = time.time()\n",
    "rcvContestIds = set(rcvContests.keys())\n",
    "nameqouts = {}\n",
    "def wnameq(contestId, line):\n",
    "    # keep name=rank&... url encoded votes, to file per contest\n",
    "    fout = nameqouts.get(contestId)\n",
    "    if fout is None:\n",
    "        cont = rcvContests[contestId]\n",
    "        path = cont['Description'] + '.nameq'\n",
    "        fout = open(path, 'wt')\n",
    "        nameqouts[contestId] = fout\n",
    "    fout.write(line)\n",
    "rawouts = {}\n",
    "def wrawcont(contestId, rec):\n",
    "    # keep json-per-line of RCV contest records, to file per contest\n",
    "    fout = rawouts.get(contestId)\n",
    "    if fout is None:\n",
    "        cont = rcvContests[contestId]\n",
    "        path = cont['Description'] + '.json'\n",
    "        fout = open(path, 'wt')\n",
    "        rawouts[contestId] = fout\n",
    "    fout.write(json.dumps(rec) + '\\n')\n",
    "def dictflip(d):\n",
    "    # flip a dict {k:v,...} to {v:[k,...],...}\n",
    "    out = {}\n",
    "    for k,v in d.items():\n",
    "        l = out.get(k)\n",
    "        if l is None:\n",
    "            out[v] = [k]\n",
    "        else:\n",
    "            l.append(k)\n",
    "    return out\n",
    "count = 0\n",
    "limit = 999999999  # limit for debugging\n",
    "for path in cvrs.values():\n",
    "    #print(path)\n",
    "    with zf.open(path) as fin:\n",
    "        cvr = json.load(fin)\n",
    "    fcount = 0\n",
    "    for ses in cvr['Sessions']:\n",
    "        for card in ses['Original']['Cards']:\n",
    "            for cont in card['Contests']:\n",
    "                if cont['Id'] in rcvContestIds:\n",
    "                    wrawcont(cont['Id'], cont)\n",
    "                    vote = {}\n",
    "                    ambiguous = {}\n",
    "                    for mark in cont['Marks']:\n",
    "                        name = candidates[mark['CandidateId']]\n",
    "                        if name == 'Write-in':\n",
    "                            # San Francisco weirds their IRV count by pretending Write-In votes didn't happen.\n",
    "                            # This non-obvious interpretation of the raw data is a compromise.\n",
    "                            # On the plus side, user-error of writing-in a name they also voted for gets cleaned up.\n",
    "                            # On the down side, the official results neglect the Write-In 'none of the above' vote, and I think that measure of dissatisfaction is important.\n",
    "                            continue\n",
    "                        if mark['IsVote']:\n",
    "                            vote[name] = mark['Rank']\n",
    "                        elif mark['IsAmbiguous']:\n",
    "                            ambiguous[name] = mark['Rank']\n",
    "                        elif False:\n",
    "                            print(\n",
    "                                '{}:warning: (TabulatorId={},BatchId={},RecordId={}) ContestId={} non vote mark: {!r}'.format(\n",
    "                                    path, ses['TabulatorId'], ses['BatchId'], ses['RecordId'], cont['Id'], mark))\n",
    "                    # if no unambiguous IsVote at a Rank, use IsAmbiguous mark(s) at that Rank\n",
    "                    voteByRank = dictflip(vote)\n",
    "                    ambiguousByRank = dictflip(ambiguous)\n",
    "                    #logger.warning('vote %r vbr %r abr %r', vote, voteByRank, ambiguousByRank)\n",
    "                    for rank, namelist in ambiguousByRank.items():\n",
    "                        if voteByRank.get(rank) is None:\n",
    "                            for aname in namelist:\n",
    "                                vote[aname] = rank\n",
    "                    line = urllib.parse.urlencode(vote) + '\\n'\n",
    "                    wnameq(cont['Id'], line)\n",
    "                    count += 1\n",
    "                    fcount += 1\n",
    "            if count > limit:\n",
    "                break\n",
    "        if count > limit:\n",
    "            break\n",
    "    if count > limit:\n",
    "        break\n",
    "    #print('{}: {} votes'.format(path, fcount))\n",
    "for fout in nameqouts.values():\n",
    "    fout.close()\n",
    "for fout in rawouts.values():\n",
    "    fout.close()\n",
    "print('Done: {} votes ({:.1f} seconds)'.format(count, time.time() - start))"
   ]
  },
  {
   "cell_type": "code",
   "execution_count": 12,
   "metadata": {},
   "outputs": [
    {
     "name": "stdout",
     "output_type": "stream",
     "text": [
      "BOARD OF SUPERVISORS DISTRICT 11.nameq.html\n",
      "BOARD OF SUPERVISORS DISTRICT 1.nameq.html\n",
      "BOARD OF SUPERVISORS DISTRICT 3.nameq.html\n",
      "BOARD OF SUPERVISORS DISTRICT 5.nameq.html\n",
      "Instant Runoff Vote [('MYRNA MELGAR', 18555), ('JOEL ENGARDIO', 16380), ('VILASKA NGUYEN', 10842), ('STEPHEN W. MARTIN-PINTO', 6136), ('EMILY MURASE', 5503), ('BEN MATRANGA', 3596), ('KEN PIPER', 976)]\n",
      "Pick One [('JOEL ENGARDIO', 9340), ('VILASKA NGUYEN', 8286), ('MYRNA MELGAR', 7881), ('EMILY MURASE', 4938), ('STEPHEN W. MARTIN-PINTO', 4603), ('BEN MATRANGA', 3433), ('KEN PIPER', 988)]\n",
      "BOARD OF SUPERVISORS DISTRICT 7.nameq: Instant Runoff Vote MYRNA MELGAR != Pick One JOEL ENGARDIO\n",
      "BOARD OF SUPERVISORS DISTRICT 7.nameq.html\n",
      "BOARD OF SUPERVISORS DISTRICT 9.nameq.html\n"
     ]
    }
   ],
   "source": [
    "# generate HTML reports\n",
    "import voteutil.rcvmatters\n",
    "import glob\n",
    "\n",
    "for fname in glob.glob('*.nameq'):\n",
    "    voteutil.rcvmatters.testFile(fname)"
   ]
  },
  {
   "cell_type": "code",
   "execution_count": 13,
   "metadata": {},
   "outputs": [],
   "source": [
    "#voteutil.rcvmatters.testFile('BOARD OF SUPERVISORS DISTRICT 1.nameq')"
   ]
  },
  {
   "cell_type": "code",
   "execution_count": 14,
   "metadata": {},
   "outputs": [],
   "source": [
    "recs = []\n",
    "with open('BOARD OF SUPERVISORS DISTRICT 1.json') as fin:\n",
    "    for line in fin:\n",
    "        recs.append(json.loads(line))"
   ]
  },
  {
   "cell_type": "code",
   "execution_count": 15,
   "metadata": {},
   "outputs": [],
   "source": [
    "ov = []\n",
    "uv = []\n",
    "for rec in recs:\n",
    "    if rec['Overvotes']:\n",
    "        ov.append(rec)\n",
    "    if rec['Undervotes']:\n",
    "        uv.append(rec)"
   ]
  },
  {
   "cell_type": "code",
   "execution_count": 16,
   "metadata": {},
   "outputs": [
    {
     "name": "stdout",
     "output_type": "stream",
     "text": [
      "all votes\n",
      "39909\n",
      "\"Overvotes\"\n",
      "347\n",
      "\"Undervotes\"\n",
      "3573\n"
     ]
    }
   ],
   "source": [
    "print('all votes')\n",
    "print(len(recs))\n",
    "print('\"Overvotes\"')\n",
    "print(len(ov))\n",
    "print('\"Undervotes\"')\n",
    "print(len(uv))"
   ]
  },
  {
   "cell_type": "code",
   "execution_count": 17,
   "metadata": {},
   "outputs": [
    {
     "data": {
      "text/plain": [
       "39909"
      ]
     },
     "execution_count": 17,
     "metadata": {},
     "output_type": "execute_result"
    }
   ],
   "source": [
    "# official round one continuing 36076, non-transferrable 3833\n",
    "# official round one blanks 3726\n",
    "# official round one overvotes 107\n",
    "3833+36076"
   ]
  },
  {
   "cell_type": "code",
   "execution_count": 18,
   "metadata": {},
   "outputs": [
    {
     "data": {
      "text/plain": [
       "3920"
      ]
     },
     "execution_count": 18,
     "metadata": {},
     "output_type": "execute_result"
    }
   ],
   "source": [
    "len(ov)+len(uv)"
   ]
  },
  {
   "cell_type": "code",
   "execution_count": 19,
   "metadata": {},
   "outputs": [
    {
     "name": "stdout",
     "output_type": "stream",
     "text": [
      "3500\n"
     ]
    }
   ],
   "source": [
    "nomarks = 0\n",
    "for rec in recs:\n",
    "    if not rec.get('Marks'):\n",
    "        nomarks += 1\n",
    "print(nomarks)"
   ]
  },
  {
   "cell_type": "code",
   "execution_count": 20,
   "metadata": {},
   "outputs": [
    {
     "name": "stdout",
     "output_type": "stream",
     "text": [
      "3509\n"
     ]
    }
   ],
   "source": [
    "novotes = 0\n",
    "for rec in recs:\n",
    "    marks = rec.get('Marks')\n",
    "    if not marks:\n",
    "        novotes += 1\n",
    "        continue\n",
    "    if not any([m['IsVote'] for m in marks]):\n",
    "        novotes += 1\n",
    "print(novotes)"
   ]
  },
  {
   "cell_type": "code",
   "execution_count": 21,
   "metadata": {},
   "outputs": [
    {
     "name": "stdout",
     "output_type": "stream",
     "text": [
      "(rank,dups)...\n",
      "[(1, 347), (2, 204), (3, 135), (4, 106), (5, 97), (6, 102), (7, 122)]\n",
      "(rank, all votes at rank), ...\n",
      "[(1, 36768), (2, 28714), (3, 23425), (4, 17104), (5, 15107), (6, 14664), (7, 14484)]\n",
      "(rank, ambiguous non-vote at rank), ...\n",
      "[(1, 89), (2, 74), (3, 63), (4, 54), (5, 63), (6, 83), (7, 75)]\n",
      "(rank, ambiguous vote at rank), ...\n",
      "[]\n"
     ]
    }
   ],
   "source": [
    "# find highest duplicate rank\n",
    "rdups = {}\n",
    "rcount = {}\n",
    "amnc = {}\n",
    "amvc = {}\n",
    "for rec in recs:\n",
    "    rc = {}\n",
    "    for mark in rec.get('Marks',[]):\n",
    "        rank = mark['Rank']\n",
    "        if not mark['IsVote']:\n",
    "            if mark['IsAmbiguous']:\n",
    "                amnc[rank] = amnc.get(rank, 0) + 1\n",
    "            continue\n",
    "        if mark['IsAmbiguous']:\n",
    "            amvc[rank] = amvc.get(rank, 0) + 1\n",
    "        rcount[rank] = rcount.get(rank, 0) + 1\n",
    "        rc[rank] = rc.get(rank, 0) + 1\n",
    "    for rank, count in sorted(rc.items()):\n",
    "        if count > 1:\n",
    "            rdups[rank] = rdups.get(rank, 0) + 1\n",
    "print('(rank,dups)...')\n",
    "print(sorted(rdups.items()))\n",
    "print('(rank, all votes at rank), ...')\n",
    "print(sorted(rcount.items()))\n",
    "print('(rank, ambiguous non-vote at rank), ...')\n",
    "print(sorted(amnc.items()))\n",
    "print('(rank, ambiguous vote at rank), ...')\n",
    "print(sorted(amvc.items()))"
   ]
  },
  {
   "cell_type": "code",
   "execution_count": 22,
   "metadata": {},
   "outputs": [],
   "source": [
    "# 347 overvotes == 347 votes with duplicate at rank=1"
   ]
  },
  {
   "cell_type": "code",
   "execution_count": 23,
   "metadata": {},
   "outputs": [],
   "source": [
    "# https://www.sfelections.org/results/20201103/data/20201201/d1/20201201_d1_short.pdf\n",
    "# Looking for official Round 1 counts:\n",
    "# AMANDA INOCENCIO: 702\n",
    "# ANDREW N. MAJALYA: 312\n",
    "# CONNIE CHAN: 13508\n",
    "# DAVID E. LEE: 6293\n",
    "# MARJAN PHILHOUR: 12383\n",
    "# SHERMAN R. D'SILVA: 1558\n",
    "# VERONICA SHINZATO: 1320\n",
    "expected = [\n",
    "    ('AMANDA INOCENCIO', 702),\n",
    "    ('ANDREW N. MAJALYA', 312),\n",
    "    ('CONNIE CHAN', 13508),\n",
    "    ('DAVID E. LEE', 6293),\n",
    "    ('MARJAN PHILHOUR', 12383),\n",
    "    (\"SHERMAN R. D'SILVA\", 1558),\n",
    "    ('VERONICA SHINZATO', 1320),\n",
    "]"
   ]
  },
  {
   "cell_type": "code",
   "execution_count": 24,
   "metadata": {},
   "outputs": [
    {
     "data": {
      "text/plain": [
       "36076"
      ]
     },
     "execution_count": 24,
     "metadata": {},
     "output_type": "execute_result"
    }
   ],
   "source": [
    "702+312+13508+6293+12383+1558+1320"
   ]
  },
  {
   "cell_type": "code",
   "execution_count": 25,
   "metadata": {},
   "outputs": [
    {
     "data": {
      "text/plain": [
       "36076"
      ]
     },
     "execution_count": 25,
     "metadata": {},
     "output_type": "execute_result"
    }
   ],
   "source": [
    "sum([x[1] for x in expected])"
   ]
  },
  {
   "cell_type": "code",
   "execution_count": 26,
   "metadata": {},
   "outputs": [],
   "source": [
    "dexpected = dict(expected)\n",
    "def presult(rname, result):\n",
    "    rd = dict(result)\n",
    "    keys = sorted(set(list(dexpected.keys()) + list(rd.keys())))\n",
    "    deltas = [(k,rd.get(k,0)-dexpected.get(k,0)) for k in keys]\n",
    "    sabsd = sum([abs(d) for _,d in deltas])\n",
    "    phtml('<b>{}, ({}) (err {})</b>'.format(rname, sum([x[1] for x in rd.items()]), sabsd))\n",
    "    print('  ' + repr(sorted(rd.items())))\n",
    "    print('  ' + repr([(k,rd.get(k,0)-dexpected.get(k,0)) for k in keys]))"
   ]
  },
  {
   "cell_type": "code",
   "execution_count": 27,
   "metadata": {},
   "outputs": [
    {
     "name": "stdout",
     "output_type": "stream",
     "text": [
      "official final\n",
      "[('AMANDA INOCENCIO', 702), ('ANDREW N. MAJALYA', 312), ('CONNIE CHAN', 13508), ('DAVID E. LEE', 6293), ('MARJAN PHILHOUR', 12383), (\"SHERMAN R. D'SILVA\", 1558), ('VERONICA SHINZATO', 1320)]\n"
     ]
    },
    {
     "data": {
      "text/html": [
       "<b>firsts, all, (36768) (err 1354)</b>"
      ],
      "text/plain": [
       "<IPython.core.display.HTML object>"
      ]
     },
     "metadata": {},
     "output_type": "display_data"
    },
    {
     "name": "stdout",
     "output_type": "stream",
     "text": [
      "  [('AMANDA INOCENCIO', 724), ('ANDREW N. MAJALYA', 324), ('CONNIE CHAN', 13449), ('DAVID E. LEE', 6149), ('MARJAN PHILHOUR', 12259), (\"SHERMAN R. D'SILVA\", 1569), ('VERONICA SHINZATO', 1316), ('Write-in', 978)]\n",
      "  [('AMANDA INOCENCIO', 22), ('ANDREW N. MAJALYA', 12), ('CONNIE CHAN', -59), ('DAVID E. LEE', -144), ('MARJAN PHILHOUR', -124), (\"SHERMAN R. D'SILVA\", 11), ('VERONICA SHINZATO', -4), ('Write-in', 978)]\n"
     ]
    },
    {
     "data": {
      "text/html": [
       "<b>firsts, removing Overvotes, (35989) (err 1625)</b>"
      ],
      "text/plain": [
       "<IPython.core.display.HTML object>"
      ]
     },
     "metadata": {},
     "output_type": "display_data"
    },
    {
     "name": "stdout",
     "output_type": "stream",
     "text": [
      "  [('AMANDA INOCENCIO', 685), ('ANDREW N. MAJALYA', 305), ('CONNIE CHAN', 13180), ('DAVID E. LEE', 6051), ('MARJAN PHILHOUR', 12176), (\"SHERMAN R. D'SILVA\", 1537), ('VERONICA SHINZATO', 1286), ('Write-in', 769)]\n",
      "  [('AMANDA INOCENCIO', -17), ('ANDREW N. MAJALYA', -7), ('CONNIE CHAN', -328), ('DAVID E. LEE', -242), ('MARJAN PHILHOUR', -207), (\"SHERMAN R. D'SILVA\", -21), ('VERONICA SHINZATO', -34), ('Write-in', 769)]\n"
     ]
    },
    {
     "data": {
      "text/html": [
       "<b>firsts, removing dups at rank 1, frdups=347, (35989) (err 1625)</b>"
      ],
      "text/plain": [
       "<IPython.core.display.HTML object>"
      ]
     },
     "metadata": {},
     "output_type": "display_data"
    },
    {
     "name": "stdout",
     "output_type": "stream",
     "text": [
      "  [('AMANDA INOCENCIO', 685), ('ANDREW N. MAJALYA', 305), ('CONNIE CHAN', 13180), ('DAVID E. LEE', 6051), ('MARJAN PHILHOUR', 12176), (\"SHERMAN R. D'SILVA\", 1537), ('VERONICA SHINZATO', 1286), ('Write-in', 769)]\n",
      "  [('AMANDA INOCENCIO', -17), ('ANDREW N. MAJALYA', -7), ('CONNIE CHAN', -328), ('DAVID E. LEE', -242), ('MARJAN PHILHOUR', -207), (\"SHERMAN R. D'SILVA\", -21), ('VERONICA SHINZATO', -34), ('Write-in', 769)]\n"
     ]
    }
   ],
   "source": [
    "firsts = {}\n",
    "firstsNoDups = {}\n",
    "firstsNoOvervotes = {}\n",
    "frdups = 0\n",
    "for rec in recs:\n",
    "    fr = []\n",
    "    fra = []\n",
    "    for mark in rec['Marks']:\n",
    "        rank = mark['Rank']\n",
    "        if rank != 1:\n",
    "            continue\n",
    "        name = candidates[mark['CandidateId']]\n",
    "        if mark['IsVote']:\n",
    "            fr.append(name)\n",
    "        elif mark['IsAmbiguous']:\n",
    "            fra.append(name)\n",
    "    # if len(fr) == 0:\n",
    "    #     fr = fra\n",
    "    if len(fr) > 1:\n",
    "        frdups += 1\n",
    "    for name in fr:\n",
    "        firsts[name] = firsts.get(name, 0) + 1\n",
    "        if len(fr) == 1:\n",
    "            firstsNoDups[name] = firstsNoDups.get(name, 0) + 1\n",
    "        if not rec['Overvotes']:\n",
    "            firstsNoOvervotes[name] = firstsNoOvervotes.get(name, 0) + 1\n",
    "print('official final')\n",
    "print(expected)\n",
    "presult('firsts, all', firsts)\n",
    "presult('firsts, removing Overvotes', firstsNoOvervotes)\n",
    "presult('firsts, removing dups at rank 1, frdups={}'.format(frdups), firstsNoDups)"
   ]
  },
  {
   "cell_type": "code",
   "execution_count": 28,
   "metadata": {},
   "outputs": [
    {
     "name": "stdout",
     "output_type": "stream",
     "text": [
      "IsVote, but if no IsVote then IsAmbiguous\n",
      "official final\n",
      "[('AMANDA INOCENCIO', 702), ('ANDREW N. MAJALYA', 312), ('CONNIE CHAN', 13508), ('DAVID E. LEE', 6293), ('MARJAN PHILHOUR', 12383), (\"SHERMAN R. D'SILVA\", 1558), ('VERONICA SHINZATO', 1320)]\n"
     ]
    },
    {
     "data": {
      "text/html": [
       "<b>firsts, all, (36784) (err 1352)</b>"
      ],
      "text/plain": [
       "<IPython.core.display.HTML object>"
      ]
     },
     "metadata": {},
     "output_type": "display_data"
    },
    {
     "name": "stdout",
     "output_type": "stream",
     "text": [
      "  [('AMANDA INOCENCIO', 725), ('ANDREW N. MAJALYA', 326), ('CONNIE CHAN', 13452), ('DAVID E. LEE', 6151), ('MARJAN PHILHOUR', 12263), (\"SHERMAN R. D'SILVA\", 1571), ('VERONICA SHINZATO', 1316), ('Write-in', 980)]\n",
      "  [('AMANDA INOCENCIO', 23), ('ANDREW N. MAJALYA', 14), ('CONNIE CHAN', -56), ('DAVID E. LEE', -142), ('MARJAN PHILHOUR', -120), (\"SHERMAN R. D'SILVA\", 13), ('VERONICA SHINZATO', -4), ('Write-in', 980)]\n"
     ]
    },
    {
     "data": {
      "text/html": [
       "<b>firsts, removing Overvotes, (36005) (err 1613)</b>"
      ],
      "text/plain": [
       "<IPython.core.display.HTML object>"
      ]
     },
     "metadata": {},
     "output_type": "display_data"
    },
    {
     "name": "stdout",
     "output_type": "stream",
     "text": [
      "  [('AMANDA INOCENCIO', 686), ('ANDREW N. MAJALYA', 307), ('CONNIE CHAN', 13183), ('DAVID E. LEE', 6053), ('MARJAN PHILHOUR', 12180), (\"SHERMAN R. D'SILVA\", 1539), ('VERONICA SHINZATO', 1286), ('Write-in', 771)]\n",
      "  [('AMANDA INOCENCIO', -16), ('ANDREW N. MAJALYA', -5), ('CONNIE CHAN', -325), ('DAVID E. LEE', -240), ('MARJAN PHILHOUR', -203), (\"SHERMAN R. D'SILVA\", -19), ('VERONICA SHINZATO', -34), ('Write-in', 771)]\n"
     ]
    },
    {
     "data": {
      "text/html": [
       "<b>firsts, removing dups at rank 1, frdups=348, (35998) (err 1618)</b>"
      ],
      "text/plain": [
       "<IPython.core.display.HTML object>"
      ]
     },
     "metadata": {},
     "output_type": "display_data"
    },
    {
     "name": "stdout",
     "output_type": "stream",
     "text": [
      "  [('AMANDA INOCENCIO', 685), ('ANDREW N. MAJALYA', 306), ('CONNIE CHAN', 13182), ('DAVID E. LEE', 6052), ('MARJAN PHILHOUR', 12179), (\"SHERMAN R. D'SILVA\", 1538), ('VERONICA SHINZATO', 1286), ('Write-in', 770)]\n",
      "  [('AMANDA INOCENCIO', -17), ('ANDREW N. MAJALYA', -6), ('CONNIE CHAN', -326), ('DAVID E. LEE', -241), ('MARJAN PHILHOUR', -204), (\"SHERMAN R. D'SILVA\", -20), ('VERONICA SHINZATO', -34), ('Write-in', 770)]\n"
     ]
    }
   ],
   "source": [
    "print('IsVote, but if no IsVote then IsAmbiguous')\n",
    "firsts = {}\n",
    "firstsNoDups = {}\n",
    "firstsNoOvervotes = {}\n",
    "frdups = 0\n",
    "for rec in recs:\n",
    "    fr = []\n",
    "    fra = []\n",
    "    for mark in rec['Marks']:\n",
    "        rank = mark['Rank']\n",
    "        if rank != 1:\n",
    "            continue\n",
    "        name = candidates[mark['CandidateId']]\n",
    "        if mark['IsVote']:\n",
    "            fr.append(name)\n",
    "        elif mark['IsAmbiguous']:\n",
    "            fra.append(name)\n",
    "    if len(fr) == 0:\n",
    "        fr = fra\n",
    "    if len(fr) > 1:\n",
    "        frdups += 1\n",
    "    for name in fr:\n",
    "        firsts[name] = firsts.get(name, 0) + 1\n",
    "        if len(fr) == 1:\n",
    "            firstsNoDups[name] = firstsNoDups.get(name, 0) + 1\n",
    "        if not rec['Overvotes']:\n",
    "            firstsNoOvervotes[name] = firstsNoOvervotes.get(name, 0) + 1\n",
    "print('official final')\n",
    "print(expected)\n",
    "presult('firsts, all', firsts)\n",
    "presult('firsts, removing Overvotes', firstsNoOvervotes)\n",
    "presult('firsts, removing dups at rank 1, frdups={}'.format(frdups), firstsNoDups)"
   ]
  },
  {
   "cell_type": "code",
   "execution_count": 29,
   "metadata": {},
   "outputs": [
    {
     "name": "stdout",
     "output_type": "stream",
     "text": [
      "highest rank (if not 1, then 2), and if no IsVote then IsAmbiguous\n",
      "laterButNoFirst 63\n",
      "official final\n",
      "[('AMANDA INOCENCIO', 702), ('ANDREW N. MAJALYA', 312), ('CONNIE CHAN', 13508), ('DAVID E. LEE', 6293), ('MARJAN PHILHOUR', 12383), (\"SHERMAN R. D'SILVA\", 1558), ('VERONICA SHINZATO', 1320)]\n"
     ]
    },
    {
     "data": {
      "text/html": [
       "<b>firsts, all, (36900) (err 1330)</b>"
      ],
      "text/plain": [
       "<IPython.core.display.HTML object>"
      ]
     },
     "metadata": {},
     "output_type": "display_data"
    },
    {
     "name": "stdout",
     "output_type": "stream",
     "text": [
      "  [('AMANDA INOCENCIO', 736), ('ANDREW N. MAJALYA', 337), ('CONNIE CHAN', 13470), ('DAVID E. LEE', 6176), ('MARJAN PHILHOUR', 12285), (\"SHERMAN R. D'SILVA\", 1578), ('VERONICA SHINZATO', 1330), ('Write-in', 988)]\n",
      "  [('AMANDA INOCENCIO', 34), ('ANDREW N. MAJALYA', 25), ('CONNIE CHAN', -38), ('DAVID E. LEE', -117), ('MARJAN PHILHOUR', -98), (\"SHERMAN R. D'SILVA\", 20), ('VERONICA SHINZATO', 10), ('Write-in', 988)]\n"
     ]
    },
    {
     "data": {
      "text/html": [
       "<b>firsts, removing Overvotes, (36121) (err 1525)</b>"
      ],
      "text/plain": [
       "<IPython.core.display.HTML object>"
      ]
     },
     "metadata": {},
     "output_type": "display_data"
    },
    {
     "name": "stdout",
     "output_type": "stream",
     "text": [
      "  [('AMANDA INOCENCIO', 697), ('ANDREW N. MAJALYA', 318), ('CONNIE CHAN', 13201), ('DAVID E. LEE', 6078), ('MARJAN PHILHOUR', 12202), (\"SHERMAN R. D'SILVA\", 1546), ('VERONICA SHINZATO', 1300), ('Write-in', 779)]\n",
      "  [('AMANDA INOCENCIO', -5), ('ANDREW N. MAJALYA', 6), ('CONNIE CHAN', -307), ('DAVID E. LEE', -215), ('MARJAN PHILHOUR', -181), (\"SHERMAN R. D'SILVA\", -12), ('VERONICA SHINZATO', -20), ('Write-in', 779)]\n"
     ]
    },
    {
     "data": {
      "text/html": [
       "<b>firsts, removing dups at rank 1, frdups=360, (36049) (err 1571)</b>"
      ],
      "text/plain": [
       "<IPython.core.display.HTML object>"
      ]
     },
     "metadata": {},
     "output_type": "display_data"
    },
    {
     "name": "stdout",
     "output_type": "stream",
     "text": [
      "  [('AMANDA INOCENCIO', 687), ('ANDREW N. MAJALYA', 309), ('CONNIE CHAN', 13191), ('DAVID E. LEE', 6067), ('MARJAN PHILHOUR', 12192), (\"SHERMAN R. D'SILVA\", 1538), ('VERONICA SHINZATO', 1293), ('Write-in', 772)]\n",
      "  [('AMANDA INOCENCIO', -15), ('ANDREW N. MAJALYA', -3), ('CONNIE CHAN', -317), ('DAVID E. LEE', -226), ('MARJAN PHILHOUR', -191), (\"SHERMAN R. D'SILVA\", -20), ('VERONICA SHINZATO', -27), ('Write-in', 772)]\n"
     ]
    }
   ],
   "source": [
    "print('highest rank (if not 1, then 2), and if no IsVote then IsAmbiguous')\n",
    "firsts = {}\n",
    "firstsNoDups = {}\n",
    "firstsNoOvervotes = {}\n",
    "frdups = 0\n",
    "laterButNoFirst = 0\n",
    "def da(d, k, v):\n",
    "    # dict append\n",
    "    l = d.get(k)\n",
    "    if l is None:\n",
    "        d[k] = [v]\n",
    "    else:\n",
    "        l.append(v)\n",
    "for rec in recs:\n",
    "    v = {}\n",
    "    va = {}\n",
    "    for mark in rec['Marks']:\n",
    "        rank = mark['Rank']\n",
    "        name = candidates[mark['CandidateId']]\n",
    "        if mark['IsVote']:\n",
    "            da(v,rank,name)\n",
    "        elif mark['IsAmbiguous']:\n",
    "            da(va,rank,name)\n",
    "    if (not v) and (not va):\n",
    "        continue\n",
    "    minv = (v and min(v.keys())) or None\n",
    "    mina = (va and min(va.keys())) or None\n",
    "    if min(filter(None,[mina,minv])) != 1:\n",
    "        laterButNoFirst += 1\n",
    "    if mina and ((not minv) or (mina < minv)):\n",
    "        fr = va[mina]\n",
    "    elif minv and v:\n",
    "        fr = v[minv]\n",
    "    else:\n",
    "        fr = []\n",
    "    if len(fr) > 1:\n",
    "        frdups += 1\n",
    "    for name in fr:\n",
    "        firsts[name] = firsts.get(name, 0) + 1\n",
    "        if len(fr) == 1:\n",
    "            firstsNoDups[name] = firstsNoDups.get(name, 0) + 1\n",
    "        if not rec['Overvotes']:\n",
    "            firstsNoOvervotes[name] = firstsNoOvervotes.get(name, 0) + 1\n",
    "print('laterButNoFirst {}'.format(laterButNoFirst))\n",
    "print('official final')\n",
    "print(expected)\n",
    "presult('firsts, all', firsts)\n",
    "presult('firsts, removing Overvotes', firstsNoOvervotes)\n",
    "presult('firsts, removing dups at rank 1, frdups={}'.format(frdups), firstsNoDups)"
   ]
  },
  {
   "cell_type": "code",
   "execution_count": 30,
   "metadata": {},
   "outputs": [
    {
     "name": "stdout",
     "output_type": "stream",
     "text": [
      "highest rank (if not 1, then 2), erase Write-in\n",
      "laterButNoFirst 608\n",
      "official final\n",
      "[('AMANDA INOCENCIO', 702), ('ANDREW N. MAJALYA', 312), ('CONNIE CHAN', 13508), ('DAVID E. LEE', 6293), ('MARJAN PHILHOUR', 12383), (\"SHERMAN R. D'SILVA\", 1558), ('VERONICA SHINZATO', 1320)]\n"
     ]
    },
    {
     "data": {
      "text/html": [
       "<b>firsts, all, (36408) (err 368)</b>"
      ],
      "text/plain": [
       "<IPython.core.display.HTML object>"
      ]
     },
     "metadata": {},
     "output_type": "display_data"
    },
    {
     "name": "stdout",
     "output_type": "stream",
     "text": [
      "  [('AMANDA INOCENCIO', 729), ('ANDREW N. MAJALYA', 328), ('CONNIE CHAN', 13672), ('DAVID E. LEE', 6275), ('MARJAN PHILHOUR', 12466), (\"SHERMAN R. D'SILVA\", 1597), ('VERONICA SHINZATO', 1341)]\n",
      "  [('AMANDA INOCENCIO', 27), ('ANDREW N. MAJALYA', 16), ('CONNIE CHAN', 164), ('DAVID E. LEE', -18), ('MARJAN PHILHOUR', 83), (\"SHERMAN R. D'SILVA\", 39), ('VERONICA SHINZATO', 21)]\n"
     ]
    },
    {
     "data": {
      "text/html": [
       "<b>firsts, removing Overvotes, (35838) (err 252)</b>"
      ],
      "text/plain": [
       "<IPython.core.display.HTML object>"
      ]
     },
     "metadata": {},
     "output_type": "display_data"
    },
    {
     "name": "stdout",
     "output_type": "stream",
     "text": [
      "  [('AMANDA INOCENCIO', 690), ('ANDREW N. MAJALYA', 309), ('CONNIE CHAN', 13403), ('DAVID E. LEE', 6177), ('MARJAN PHILHOUR', 12383), (\"SHERMAN R. D'SILVA\", 1565), ('VERONICA SHINZATO', 1311)]\n",
      "  [('AMANDA INOCENCIO', -12), ('ANDREW N. MAJALYA', -3), ('CONNIE CHAN', -105), ('DAVID E. LEE', -116), ('MARJAN PHILHOUR', 0), (\"SHERMAN R. D'SILVA\", 7), ('VERONICA SHINZATO', -9)]\n"
     ]
    },
    {
     "data": {
      "text/html": [
       "<b>firsts, removing dups at rank 1, dups=150, (36028) (err 218)</b>"
      ],
      "text/plain": [
       "<IPython.core.display.HTML object>"
      ]
     },
     "metadata": {},
     "output_type": "display_data"
    },
    {
     "name": "stdout",
     "output_type": "stream",
     "text": [
      "  [('AMANDA INOCENCIO', 691), ('ANDREW N. MAJALYA', 310), ('CONNIE CHAN', 13583), ('DAVID E. LEE', 6183), ('MARJAN PHILHOUR', 12384), (\"SHERMAN R. D'SILVA\", 1567), ('VERONICA SHINZATO', 1310)]\n",
      "  [('AMANDA INOCENCIO', -11), ('ANDREW N. MAJALYA', -2), ('CONNIE CHAN', 75), ('DAVID E. LEE', -110), ('MARJAN PHILHOUR', 1), (\"SHERMAN R. D'SILVA\", 9), ('VERONICA SHINZATO', -10)]\n"
     ]
    }
   ],
   "source": [
    "print('highest rank (if not 1, then 2), erase Write-in')\n",
    "firsts = {}\n",
    "firstsNoDups = {}\n",
    "firstsNoOvervotes = {}\n",
    "frdups = 0\n",
    "laterButNoFirst = 0\n",
    "def da(d, k, v):\n",
    "    # dict append\n",
    "    l = d.get(k)\n",
    "    if l is None:\n",
    "        d[k] = [v]\n",
    "    else:\n",
    "        l.append(v)\n",
    "for rec in recs:\n",
    "    v = {}\n",
    "    va = {}\n",
    "    for mark in rec['Marks']:\n",
    "        rank = mark['Rank']\n",
    "        name = candidates[mark['CandidateId']]\n",
    "        if name == 'Write-in':\n",
    "            continue\n",
    "        if mark['IsVote']:\n",
    "            da(v,rank,name)\n",
    "        elif mark['IsAmbiguous']:\n",
    "            da(va,rank,name)\n",
    "    if (not v) and (not va):\n",
    "        continue\n",
    "    minv = (v and min(v.keys())) or None\n",
    "    mina = (va and min(va.keys())) or None\n",
    "    if min(filter(None,[mina,minv])) != 1:\n",
    "        laterButNoFirst += 1\n",
    "    #if mina and ((not minv) or (mina < minv)):\n",
    "    #    fr = va[mina]\n",
    "    elif minv and v:\n",
    "        fr = v[minv]\n",
    "    else:\n",
    "        fr = []\n",
    "    if len(fr) > 1:\n",
    "        frdups += 1\n",
    "    for name in fr:\n",
    "        firsts[name] = firsts.get(name, 0) + 1\n",
    "        if len(fr) == 1:\n",
    "            firstsNoDups[name] = firstsNoDups.get(name, 0) + 1\n",
    "        if not rec['Overvotes']:\n",
    "            firstsNoOvervotes[name] = firstsNoOvervotes.get(name, 0) + 1\n",
    "print('laterButNoFirst {}'.format(laterButNoFirst))\n",
    "print('official final')\n",
    "print(expected)\n",
    "presult('firsts, all', firsts)\n",
    "presult('firsts, removing Overvotes', firstsNoOvervotes)\n",
    "presult('firsts, removing dups at rank 1, dups={}'.format(frdups), firstsNoDups)"
   ]
  },
  {
   "cell_type": "code",
   "execution_count": 31,
   "metadata": {},
   "outputs": [
    {
     "name": "stdout",
     "output_type": "stream",
     "text": [
      "highest rank (if not 1, then 2), and if no IsVote then IsAmbiguous, erase Write-in\n",
      "laterButNoFirst 608\n",
      "official final\n",
      "[('AMANDA INOCENCIO', 702), ('ANDREW N. MAJALYA', 312), ('CONNIE CHAN', 13508), ('DAVID E. LEE', 6293), ('MARJAN PHILHOUR', 12383), (\"SHERMAN R. D'SILVA\", 1558), ('VERONICA SHINZATO', 1320)]\n"
     ]
    },
    {
     "data": {
      "text/html": [
       "<b>firsts, all, (36460) (err 384)</b>"
      ],
      "text/plain": [
       "<IPython.core.display.HTML object>"
      ]
     },
     "metadata": {},
     "output_type": "display_data"
    },
    {
     "name": "stdout",
     "output_type": "stream",
     "text": [
      "  [('AMANDA INOCENCIO', 750), ('ANDREW N. MAJALYA', 341), ('CONNIE CHAN', 13551), ('DAVID E. LEE', 6396), ('MARJAN PHILHOUR', 12467), (\"SHERMAN R. D'SILVA\", 1596), ('VERONICA SHINZATO', 1359)]\n",
      "  [('AMANDA INOCENCIO', 48), ('ANDREW N. MAJALYA', 29), ('CONNIE CHAN', 43), ('DAVID E. LEE', 103), ('MARJAN PHILHOUR', 84), (\"SHERMAN R. D'SILVA\", 38), ('VERONICA SHINZATO', 39)]\n"
     ]
    },
    {
     "data": {
      "text/html": [
       "<b>firsts, removing Overvotes, (35890) (err 266)</b>"
      ],
      "text/plain": [
       "<IPython.core.display.HTML object>"
      ]
     },
     "metadata": {},
     "output_type": "display_data"
    },
    {
     "name": "stdout",
     "output_type": "stream",
     "text": [
      "  [('AMANDA INOCENCIO', 711), ('ANDREW N. MAJALYA', 322), ('CONNIE CHAN', 13282), ('DAVID E. LEE', 6298), ('MARJAN PHILHOUR', 12384), (\"SHERMAN R. D'SILVA\", 1564), ('VERONICA SHINZATO', 1329)]\n",
      "  [('AMANDA INOCENCIO', 9), ('ANDREW N. MAJALYA', 10), ('CONNIE CHAN', -226), ('DAVID E. LEE', 5), ('MARJAN PHILHOUR', 1), (\"SHERMAN R. D'SILVA\", 6), ('VERONICA SHINZATO', 9)]\n"
     ]
    },
    {
     "data": {
      "text/html": [
       "<b>firsts, removing dups at rank 1, dups=159, (36025) (err 63)</b>"
      ],
      "text/plain": [
       "<IPython.core.display.HTML object>"
      ]
     },
     "metadata": {},
     "output_type": "display_data"
    },
    {
     "name": "stdout",
     "output_type": "stream",
     "text": [
      "  [('AMANDA INOCENCIO', 703), ('ANDREW N. MAJALYA', 314), ('CONNIE CHAN', 13455), ('DAVID E. LEE', 6294), ('MARJAN PHILHOUR', 12379), (\"SHERMAN R. D'SILVA\", 1558), ('VERONICA SHINZATO', 1322)]\n",
      "  [('AMANDA INOCENCIO', 1), ('ANDREW N. MAJALYA', 2), ('CONNIE CHAN', -53), ('DAVID E. LEE', 1), ('MARJAN PHILHOUR', -4), (\"SHERMAN R. D'SILVA\", 0), ('VERONICA SHINZATO', 2)]\n"
     ]
    }
   ],
   "source": [
    "print('highest rank (if not 1, then 2), and if no IsVote then IsAmbiguous, erase Write-in')\n",
    "firsts = {}\n",
    "firstsNoDups = {}\n",
    "firstsNoOvervotes = {}\n",
    "frdups = 0\n",
    "laterButNoFirst = 0\n",
    "def da(d, k, v):\n",
    "    # dict append\n",
    "    l = d.get(k)\n",
    "    if l is None:\n",
    "        d[k] = [v]\n",
    "    else:\n",
    "        l.append(v)\n",
    "for rec in recs:\n",
    "    v = {}\n",
    "    va = {}\n",
    "    for mark in rec['Marks']:\n",
    "        rank = mark['Rank']\n",
    "        name = candidates[mark['CandidateId']]\n",
    "        if name == 'Write-in':\n",
    "            continue\n",
    "        if mark['IsVote']:\n",
    "            da(v,rank,name)\n",
    "        elif mark['IsAmbiguous']:\n",
    "            da(va,rank,name)\n",
    "    if (not v) and (not va):\n",
    "        continue\n",
    "    minv = (v and min(v.keys())) or None\n",
    "    mina = (va and min(va.keys())) or None\n",
    "    if min(filter(None,[mina,minv])) != 1:\n",
    "        laterButNoFirst += 1\n",
    "    if mina and ((not minv) or (mina < minv)):\n",
    "        fr = va[mina]\n",
    "    elif minv and v:\n",
    "        fr = v[minv]\n",
    "    else:\n",
    "        fr = []\n",
    "    if len(fr) > 1:\n",
    "        frdups += 1\n",
    "    for name in fr:\n",
    "        firsts[name] = firsts.get(name, 0) + 1\n",
    "        if len(fr) == 1:\n",
    "            firstsNoDups[name] = firstsNoDups.get(name, 0) + 1\n",
    "        if not rec['Overvotes']:\n",
    "            firstsNoOvervotes[name] = firstsNoOvervotes.get(name, 0) + 1\n",
    "print('laterButNoFirst {}'.format(laterButNoFirst))\n",
    "print('official final')\n",
    "print(expected)\n",
    "presult('firsts, all', firsts)\n",
    "presult('firsts, removing Overvotes', firstsNoOvervotes)\n",
    "presult('firsts, removing dups at rank 1, dups={}'.format(frdups), firstsNoDups)"
   ]
  },
  {
   "cell_type": "code",
   "execution_count": 32,
   "metadata": {},
   "outputs": [
    {
     "name": "stdout",
     "output_type": "stream",
     "text": [
      "example record\n",
      "{\n",
      "  \"Id\": 12,\n",
      "  \"ManifestationId\": 58601,\n",
      "  \"Undervotes\": 0,\n",
      "  \"Overvotes\": 0,\n",
      "  \"OutstackConditionIds\": [],\n",
      "  \"Marks\": [\n",
      "    {\n",
      "      \"CandidateId\": 20,\n",
      "      \"ManifestationId\": 218895,\n",
      "      \"PartyId\": 0,\n",
      "      \"Rank\": 1,\n",
      "      \"MarkDensity\": 85,\n",
      "      \"IsAmbiguous\": false,\n",
      "      \"IsVote\": true,\n",
      "      \"OutstackConditionIds\": []\n",
      "    },\n",
      "    {\n",
      "      \"CandidateId\": 17,\n",
      "      \"ManifestationId\": 218931,\n",
      "      \"PartyId\": 0,\n",
      "      \"Rank\": 2,\n",
      "      \"MarkDensity\": 75,\n",
      "      \"IsAmbiguous\": false,\n",
      "      \"IsVote\": true,\n",
      "      \"OutstackConditionIds\": []\n",
      "    },\n",
      "    {\n",
      "      \"CandidateId\": 23,\n",
      "      \"ManifestationId\": 218911,\n",
      "      \"PartyId\": 0,\n",
      "      \"Rank\": 3,\n",
      "      \"MarkDensity\": 70,\n",
      "      \"IsAmbiguous\": false,\n",
      "      \"IsVote\": true,\n",
      "      \"OutstackConditionIds\": []\n",
      "    },\n",
      "    {\n",
      "      \"CandidateId\": 21,\n",
      "      \"ManifestationId\": 218905,\n",
      "      \"PartyId\": 0,\n",
      "      \"Rank\": 4,\n",
      "      \"MarkDensity\": 81,\n",
      "      \"IsAmbiguous\": false,\n",
      "      \"IsVote\": true,\n",
      "      \"OutstackConditionIds\": []\n",
      "    },\n",
      "    {\n",
      "      \"CandidateId\": 18,\n",
      "      \"ManifestationId\": 218920,\n",
      "      \"PartyId\": 0,\n",
      "      \"Rank\": 5,\n",
      "      \"MarkDensity\": 78,\n",
      "      \"IsAmbiguous\": false,\n",
      "      \"IsVote\": true,\n",
      "      \"OutstackConditionIds\": []\n",
      "    },\n",
      "    {\n",
      "      \"CandidateId\": 22,\n",
      "      \"ManifestationId\": 218928,\n",
      "      \"PartyId\": 0,\n",
      "      \"Rank\": 6,\n",
      "      \"MarkDensity\": 81,\n",
      "      \"IsAmbiguous\": false,\n",
      "      \"IsVote\": true,\n",
      "      \"OutstackConditionIds\": []\n",
      "    },\n",
      "    {\n",
      "      \"CandidateId\": 19,\n",
      "      \"ManifestationId\": 218943,\n",
      "      \"PartyId\": 0,\n",
      "      \"Rank\": 7,\n",
      "      \"MarkDensity\": 75,\n",
      "      \"IsAmbiguous\": false,\n",
      "      \"IsVote\": true,\n",
      "      \"OutstackConditionIds\": []\n",
      "    }\n",
      "  ]\n",
      "}\n"
     ]
    }
   ],
   "source": [
    "print('example record')\n",
    "print(json.dumps(recs[1], indent=2))"
   ]
  },
  {
   "cell_type": "code",
   "execution_count": 33,
   "metadata": {},
   "outputs": [],
   "source": [
    "with zf.open('OutstackConditionManifest.json') as fin:\n",
    "    ocm = json.load(fin)"
   ]
  },
  {
   "cell_type": "code",
   "execution_count": 34,
   "metadata": {},
   "outputs": [],
   "source": [
    "outstackConditions = {x['Id']:x['Description'] for x in ocm['List']}"
   ]
  },
  {
   "cell_type": "code",
   "execution_count": 35,
   "metadata": {},
   "outputs": [
    {
     "data": {
      "text/plain": [
       "{0: 'Ambiguous',\n",
       " 1: 'Writein',\n",
       " 2: 'BlankBallot',\n",
       " 5: 'Overvote',\n",
       " 4: 'Undervote',\n",
       " 6: 'BlankContest',\n",
       " 9: 'OvervotedRanking',\n",
       " 10: 'InconsistentRcvOrdering',\n",
       " 11: 'SkippedRanking',\n",
       " 12: 'DuplicatedRcvCandidate',\n",
       " 13: 'UnvotedRcvContest',\n",
       " 14: 'UnusedRanking'}"
      ]
     },
     "execution_count": 35,
     "metadata": {},
     "output_type": "execute_result"
    }
   ],
   "source": [
    "outstackConditions"
   ]
  },
  {
   "cell_type": "code",
   "execution_count": 36,
   "metadata": {},
   "outputs": [
    {
     "name": "stdout",
     "output_type": "stream",
     "text": [
      "record OutstackConditionIds: [('SkippedRanking', 456), ('UnvotedRcvContest', 3509), ('UnusedRanking', 22100)]\n",
      "mark OutstackConditionIds: [('Ambiguous', 501), ('Writein', 2962), ('OvervotedRanking', 2458), ('InconsistentRcvOrdering', 980), ('DuplicatedRcvCandidate', 3105)]\n"
     ]
    }
   ],
   "source": [
    "oci = {}\n",
    "moci = {}\n",
    "def dil(d, l, v=1):\n",
    "    for k in l:\n",
    "        d[k] = d.get(k,0) + v\n",
    "for rec in recs:\n",
    "    dil(oci, rec['OutstackConditionIds'])\n",
    "    for m in rec['Marks']:\n",
    "        dil(moci, m['OutstackConditionIds'])\n",
    "print('record OutstackConditionIds: {}'.format([(outstackConditions[x],c) for x,c in sorted(oci.items())]))\n",
    "print('mark OutstackConditionIds: {}'.format([(outstackConditions[x],c) for x,c in sorted(moci.items())]))"
   ]
  },
  {
   "cell_type": "code",
   "execution_count": 37,
   "metadata": {},
   "outputs": [],
   "source": [
    "errt_header = ['','expected','actual','diff']\n",
    "def smartsub(a,b):\n",
    "    if a is None:\n",
    "        return b\n",
    "    if b is None:\n",
    "        return '-{!r}'.format(a)\n",
    "    return a - b\n",
    "def errt(expected, actual):\n",
    "    ed = dict(expected)\n",
    "    ad = dict(actual)\n",
    "    keys = sorted(set(list(ed.keys()) + list(ad.keys())))\n",
    "    return [[k, ed.get(k), ad.get(k), smartsub(ad.get(k), ed.get(k))] for k in keys]\n",
    "import csv\n",
    "import io\n",
    "def errtcsv(expected,actual):\n",
    "    t = errt(expected,actual)\n",
    "    out = io.StringIO()\n",
    "    w = csv.writer(out)\n",
    "    w.writerow(errt_header)\n",
    "    for row in t:\n",
    "        w.writerow(row)\n",
    "    return out.getvalue()\n",
    "def errthtml(expected,actual):\n",
    "    t = errt(expected,actual)\n",
    "    out = '<table><tr>' + ''.join(['<th>{}</th>'.format(x) for x in errt_header]) + '</tr>'\n",
    "    for row in t:\n",
    "        out += '<tr>{}</tr>'.format(''.join(['<td>{}</td>'.format(x) for x in row]))\n",
    "    return out + '</table>'"
   ]
  },
  {
   "cell_type": "code",
   "execution_count": 38,
   "metadata": {},
   "outputs": [
    {
     "name": "stdout",
     "output_type": "stream",
     "text": [
      ",expected,actual,diff\r\n",
      "AMANDA INOCENCIO,702,703,1\r\n",
      "ANDREW N. MAJALYA,312,314,2\r\n",
      "CONNIE CHAN,13508,13455,-53\r\n",
      "DAVID E. LEE,6293,6294,1\r\n",
      "MARJAN PHILHOUR,12383,12379,-4\r\n",
      "SHERMAN R. D'SILVA,1558,1558,0\r\n",
      "VERONICA SHINZATO,1320,1322,2\r\n",
      "\n"
     ]
    }
   ],
   "source": [
    "print(errtcsv(expected, firstsNoDups))"
   ]
  },
  {
   "cell_type": "code",
   "execution_count": 39,
   "metadata": {},
   "outputs": [
    {
     "data": {
      "text/html": [
       "<table><tr><th></th><th>expected</th><th>actual</th><th>diff</th></tr><tr><td>AMANDA INOCENCIO</td><td>702</td><td>703</td><td>1</td></tr><tr><td>ANDREW N. MAJALYA</td><td>312</td><td>314</td><td>2</td></tr><tr><td>CONNIE CHAN</td><td>13508</td><td>13455</td><td>-53</td></tr><tr><td>DAVID E. LEE</td><td>6293</td><td>6294</td><td>1</td></tr><tr><td>MARJAN PHILHOUR</td><td>12383</td><td>12379</td><td>-4</td></tr><tr><td>SHERMAN R. D'SILVA</td><td>1558</td><td>1558</td><td>0</td></tr><tr><td>VERONICA SHINZATO</td><td>1320</td><td>1322</td><td>2</td></tr></table>"
      ],
      "text/plain": [
       "<IPython.core.display.HTML object>"
      ]
     },
     "metadata": {},
     "output_type": "display_data"
    }
   ],
   "source": [
    "phtml(errthtml(expected, firstsNoDups))"
   ]
  },
  {
   "cell_type": "code",
   "execution_count": 40,
   "metadata": {},
   "outputs": [
    {
     "name": "stdout",
     "output_type": "stream",
     "text": [
      "<table><tr><th></th><th>expected</th><th>actual</th><th>diff</th></tr><tr><td>AMANDA INOCENCIO</td><td>702</td><td>703</td><td>1</td></tr><tr><td>ANDREW N. MAJALYA</td><td>312</td><td>314</td><td>2</td></tr><tr><td>CONNIE CHAN</td><td>13508</td><td>13455</td><td>-53</td></tr><tr><td>DAVID E. LEE</td><td>6293</td><td>6294</td><td>1</td></tr><tr><td>MARJAN PHILHOUR</td><td>12383</td><td>12379</td><td>-4</td></tr><tr><td>SHERMAN R. D'SILVA</td><td>1558</td><td>1558</td><td>0</td></tr><tr><td>VERONICA SHINZATO</td><td>1320</td><td>1322</td><td>2</td></tr></table>\n"
     ]
    }
   ],
   "source": [
    "print(errthtml(expected, firstsNoDups))"
   ]
  },
  {
   "cell_type": "code",
   "execution_count": null,
   "metadata": {},
   "outputs": [],
   "source": []
  }
 ],
 "metadata": {
  "kernelspec": {
   "display_name": "Python 3 (ipykernel)",
   "language": "python",
   "name": "python3"
  },
  "language_info": {
   "codemirror_mode": {
    "name": "ipython",
    "version": 3
   },
   "file_extension": ".py",
   "mimetype": "text/x-python",
   "name": "python",
   "nbconvert_exporter": "python",
   "pygments_lexer": "ipython3",
   "version": "3.9.7"
  }
 },
 "nbformat": 4,
 "nbformat_minor": 2
}
